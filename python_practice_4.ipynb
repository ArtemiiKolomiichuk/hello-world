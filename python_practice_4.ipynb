{
  "cells": [
    {
      "cell_type": "markdown",
      "metadata": {
        "id": "kXpppdVm6wFy"
      },
      "source": [
        "# I. Functions. Arguments."
      ]
    },
    {
      "cell_type": "markdown",
      "metadata": {
        "id": "u_krJdlbAkVz"
      },
      "source": [
        "1. (5б) Назвіть основні 4 смислові  частини, з яких складається функція."
      ]
    },
    {
      "cell_type": "markdown",
      "metadata": {
        "id": "KKTrTXmHAptb"
      },
      "source": [
        "назва, аргументи, тіло і те, що функція повертає"
      ]
    },
    {
      "cell_type": "markdown",
      "metadata": {
        "id": "ORM4PqJQAtDM"
      },
      "source": [
        "2. (3б) Визначте функцію, що приймає 2 аргументи та повертає результат ділення 1го аргумента на інший."
      ]
    },
    {
      "cell_type": "code",
      "execution_count": 33,
      "metadata": {
        "id": "EuDx-z8M6sLo"
      },
      "outputs": [
        {
          "name": "stdout",
          "output_type": "stream",
          "text": [
            "5.0\n"
          ]
        }
      ],
      "source": [
        "def div(a,b):\n",
        "    return a/b\n",
        "\n",
        "print(div(10,2))"
      ]
    },
    {
      "cell_type": "markdown",
      "metadata": {
        "id": "5joQGQ-SAyMe"
      },
      "source": [
        "3. (2б) Викличте вище визначену функцію, де другий аргумент дорівнює 0."
      ]
    },
    {
      "cell_type": "code",
      "execution_count": 34,
      "metadata": {
        "id": "V5cBV1LOA3d-"
      },
      "outputs": [
        {
          "ename": "ZeroDivisionError",
          "evalue": "division by zero",
          "output_type": "error",
          "traceback": [
            "\u001b[1;31m---------------------------------------------------------------------------\u001b[0m",
            "\u001b[1;31mZeroDivisionError\u001b[0m                         Traceback (most recent call last)",
            "Cell \u001b[1;32mIn[34], line 1\u001b[0m\n\u001b[1;32m----> 1\u001b[0m \u001b[38;5;28mprint\u001b[39m(\u001b[43mdiv\u001b[49m\u001b[43m(\u001b[49m\u001b[38;5;241;43m10\u001b[39;49m\u001b[43m,\u001b[49m\u001b[38;5;241;43m0\u001b[39;49m\u001b[43m)\u001b[49m)\n",
            "Cell \u001b[1;32mIn[33], line 2\u001b[0m, in \u001b[0;36mdiv\u001b[1;34m(a, b)\u001b[0m\n\u001b[0;32m      1\u001b[0m \u001b[38;5;28;01mdef\u001b[39;00m \u001b[38;5;21mdiv\u001b[39m(a,b):\n\u001b[1;32m----> 2\u001b[0m     \u001b[38;5;28;01mreturn\u001b[39;00m \u001b[43ma\u001b[49m\u001b[38;5;241;43m/\u001b[39;49m\u001b[43mb\u001b[49m\n",
            "\u001b[1;31mZeroDivisionError\u001b[0m: division by zero"
          ]
        }
      ],
      "source": [
        "print(div(10,0))"
      ]
    },
    {
      "cell_type": "markdown",
      "metadata": {
        "id": "QyimWgW8A43-"
      },
      "source": [
        "4. (4б) Перевизначте функцію так, щоби у випадку ділення на 0 функція повертала None, а в решті випадків - результат розрахунків."
      ]
    },
    {
      "cell_type": "code",
      "execution_count": 30,
      "metadata": {
        "id": "7VIODtSjA8Ek"
      },
      "outputs": [],
      "source": [
        "def div(a,b):\n",
        "    if b != 0:\n",
        "        return a/b\n",
        "    else:\n",
        "        return None"
      ]
    },
    {
      "cell_type": "markdown",
      "metadata": {
        "id": "Y8mN0GfkA81l"
      },
      "source": [
        "5. (5б) Визначте функцію, що віднімає одне число від іншого (підказка: це буде 2 аргументи функції). При чому, якщо не визначити, скільки саме має бути віднято від числа, за замовчуванням має відніматися 1. Викличте функцію, передаючи тільки один аргумент."
      ]
    },
    {
      "cell_type": "code",
      "execution_count": 31,
      "metadata": {
        "id": "vg1kxkdgBA50"
      },
      "outputs": [
        {
          "name": "stdout",
          "output_type": "stream",
          "text": [
            "5\n",
            "9\n"
          ]
        }
      ],
      "source": [
        "def sub(a,b=1):\n",
        "    return a-b\n",
        "\n",
        "print(sub(10,5))\n",
        "print(sub(10))"
      ]
    },
    {
      "cell_type": "markdown",
      "metadata": {
        "id": "D3mwQGNOBBs4"
      },
      "source": [
        "6. (7б) Визначте функцію, яка приймає iterable (ітерабельний обʼєкт, напр. список), що складається з 7ми рядкових значень - назв погодних умов (напр. \"sunny\") за кожен день у тижні. Повертає функція словник, де ключами є рядки з погодними умовами, а значеннями - кількість разів, скільки дана погода була протягом тижня (напр. {'sunny': 1, ...}). Викличте цю функцію та виведіть результат її роботи на екран."
      ]
    },
    {
      "cell_type": "code",
      "execution_count": 8,
      "metadata": {
        "id": "OsWm-hKcBFyn"
      },
      "outputs": [
        {
          "name": "stdout",
          "output_type": "stream",
          "text": [
            "{1: 1, 2: 2, 3: 3, 4: 4, 5: 5, 6: 1, 7: 2}\n"
          ]
        }
      ],
      "source": [
        "def dictCount(s):\n",
        "    d = {}\n",
        "    for i in s:\n",
        "        if i in d:\n",
        "            d[i] += 1\n",
        "        else:\n",
        "            d[i] = 1\n",
        "    return d\n",
        "\n",
        "numList = [1,2,2,3,3,3,4,4,4,4,5,5,5,5,5,6,7,7]\n",
        "print(dictCount(numList))"
      ]
    },
    {
      "cell_type": "markdown",
      "metadata": {
        "id": "RMiCcdOsBKQT"
      },
      "source": [
        "7. (15б) Напишіть програму, яка б шукала необхідне число у впорядкованому списку цілочислених значень, де\n",
        "число має вводитись з консолі.\n",
        "власне алгоритм пошуку винесений в окрему функцію, яка повертає булеве значення (знайдено число - True, не знайдено - False).\n",
        "в залежності від результату функції, виведіть на екран повідомлення про успішний або ж неуспішний пошук.\n",
        "Зауваження: використовувати оператор in заборонено."
      ]
    },
    {
      "cell_type": "code",
      "execution_count": 27,
      "metadata": {
        "id": "UNCZg65OBOy-"
      },
      "outputs": [
        {
          "name": "stdout",
          "output_type": "stream",
          "text": [
            "True\n"
          ]
        }
      ],
      "source": [
        "def isIn(elem, list):\n",
        "    while 1 < len(list):\n",
        "        mid = len(list)//2\n",
        "        if list[mid] == elem:\n",
        "            return True\n",
        "        elif list[mid] > elem:\n",
        "            list = list[:mid]\n",
        "        else:\n",
        "            list = list[mid:]\n",
        "    return list[0] == elem\n",
        "\n",
        "i = input()\n",
        "print(isIn(int(i),numList))"
      ]
    },
    {
      "cell_type": "markdown",
      "metadata": {
        "id": "Ae1n_OvLBTsy"
      },
      "source": [
        "# II. Lambda functions."
      ]
    },
    {
      "cell_type": "markdown",
      "metadata": {
        "id": "xaD_wSlaCWen"
      },
      "source": [
        "8. (4б) В яких випадках варто використовувати лямбда-функції?"
      ]
    },
    {
      "cell_type": "markdown",
      "metadata": {
        "id": "42MB6OoLCakR"
      },
      "source": [
        "Їх варто використовувати для коротких (однострокових) функцій, особливо якщо вони використовуються лише один раз, наприклад, для селекторів сортування, фільтрації та меппінгу."
      ]
    },
    {
      "cell_type": "markdown",
      "metadata": {
        "id": "USrzrk7GCedk"
      },
      "source": [
        "9. (9б) Визначте список з рядками. Після цього визначте анонімну функцію для отримання першого символу у верхньому регістрі для кожного рядка списку.\n",
        "Підказка: використовуйте анонімну функцію в якості агрумента до вбудованої ф-ції, яка створена для застосування функцій над iterable обʼєктами. Результат виведіть на екран у вигляді кортежу."
      ]
    },
    {
      "cell_type": "code",
      "execution_count": 17,
      "metadata": {
        "id": "M8QWUsMlCjWH"
      },
      "outputs": [
        {
          "name": "stdout",
          "output_type": "stream",
          "text": [
            "('П', 'Ц', 'В', 'А', 'Ф', 'Д', 'О', 'П', 'С', 'У', 'В', 'Р', 'Д', 'К', 'Р', 'С')\n"
          ]
        }
      ],
      "source": [
        "strList = \"Після цього визначте анонімну функцію для отримання першого символу у верхньому регістрі для кожного рядка списку.\".split()\n",
        "firstUpper = lambda s: s[0].upper()\n",
        "print(tuple(map(firstUpper, strList)))\n"
      ]
    },
    {
      "cell_type": "markdown",
      "metadata": {
        "id": "9fyUhXOoCtGp"
      },
      "source": [
        "10. (10б) Визначте список з числовими значеннями (і цілими, і з рухомою комою). а) Відфільтруйте всі числа, які діляться націло на 3 за допомогою вбудованої функції та анонімної функції в якості аргумента). Збережіть результат у змінній, не приводяти явно до будь-якого типу. б) Використовуючи результат на кроці \"a\" у якості аргументу, та за допомогою лямбда-функції в якості іншого аргументу до вбудованої функції, додайте до кожного елементу число 1 та опісля зведіть у квадрат. Остаточний результат приведіть явно до списку та виведіть на екран."
      ]
    },
    {
      "cell_type": "code",
      "execution_count": 15,
      "metadata": {
        "id": "exEx2_okCsql"
      },
      "outputs": [
        {
          "name": "stdout",
          "output_type": "stream",
          "text": [
            "[16, 100, 169]\n"
          ]
        }
      ],
      "source": [
        "numbers = [1,2.2,3,4.4,5,6.6,7.2,8.1,9,10,12]\n",
        "div3 = lambda x: x%3 == 0\n",
        "nums3 = filter(div3, numbers)\n",
        "nums12 = map(lambda x: (x+1)**2, nums3)\n",
        "print(list(nums12))"
      ]
    },
    {
      "cell_type": "markdown",
      "metadata": {
        "id": "o_x8cG_WC7jp"
      },
      "source": [
        "# III. Decorators."
      ]
    },
    {
      "cell_type": "markdown",
      "metadata": {
        "id": "mhxS4-mfC8LQ"
      },
      "source": [
        "11. (11б) Визначте декоратор, який би виводив у консоль повідомлення про початок роботи і назву функції (напр. my_function._ _ name _ _), а після відпрацювання функції - повідомлення про закінчення роботи і назву функції, що задекорована."
      ]
    },
    {
      "cell_type": "code",
      "execution_count": 12,
      "metadata": {
        "id": "srd1ygWjDGhO"
      },
      "outputs": [],
      "source": [
        "def nameDecorator(func):\n",
        "    def wrapper(*args, **kwargs):\n",
        "        print(\"Started: \", func.__name__)\n",
        "        res = func(*args, **kwargs)\n",
        "        print(\"Finished: \", func.__name__)\n",
        "        return res\n",
        "    return wrapper"
      ]
    },
    {
      "cell_type": "markdown",
      "metadata": {
        "id": "rxGZwVBiDph3"
      },
      "source": [
        "12. (4б) Задекоруйте двома різними способами функції з завдання 4 та 5 декоратором із завдання 11. (**УВАГА**: не декоруйте функції двічі!)."
      ]
    },
    {
      "cell_type": "code",
      "execution_count": 13,
      "metadata": {
        "id": "06lj7eq_DwZe"
      },
      "outputs": [],
      "source": [
        "div = nameDecorator(div)\n",
        "\n",
        "@nameDecorator\n",
        "def sub(a,b=1):\n",
        "    return a-b"
      ]
    },
    {
      "cell_type": "markdown",
      "metadata": {
        "id": "P0ep1urBDzf-"
      },
      "source": [
        "13. (2б) Викличте одну з задекорованих функцій і виведіть її результат на екран."
      ]
    },
    {
      "cell_type": "code",
      "execution_count": 14,
      "metadata": {
        "id": "1QvTw0ctD0S3"
      },
      "outputs": [
        {
          "name": "stdout",
          "output_type": "stream",
          "text": [
            "Started:  div\n",
            "Finished:  div\n",
            "5.0\n"
          ]
        }
      ],
      "source": [
        "print(div(10,2))"
      ]
    },
    {
      "cell_type": "markdown",
      "metadata": {
        "id": "poECCpuoD2S9"
      },
      "source": [
        "# IV. Recursion."
      ]
    },
    {
      "cell_type": "markdown",
      "metadata": {
        "id": "DqkURfdsD7MY"
      },
      "source": [
        "14. (4б) Назвіть дві частини функції, які є обовʼязковими для того, щоб називати її рекурсивною."
      ]
    },
    {
      "cell_type": "markdown",
      "metadata": {
        "id": "HYW6ttIeIQIU"
      },
      "source": [
        "Функція викликає сама себе з іншими аргументами, вказана умова за якої рекурсія припиняється"
      ]
    },
    {
      "cell_type": "markdown",
      "metadata": {
        "id": "WYVt20UmEA35"
      },
      "source": [
        "15. (15б) Визначте функцію, яка рекурсивно реалізовує пошук числа у послідовності Фібоначчі за її індексом (нумерація починається з нуля). Наприклад, потрібно знайти перше число у послідовності, тоді функція прийматиме 0 у якості аргумента і повертатиме 1, якщо ж знаходити третє число (індекс 2) послідовності, то функція повертатиме 2, якщо ж знаходити десяте число (індекс 9), то функція повертатиме 55."
      ]
    },
    {
      "cell_type": "code",
      "execution_count": null,
      "metadata": {
        "id": "xIMhp05AIpV_"
      },
      "outputs": [
        {
          "name": "stdout",
          "output_type": "stream",
          "text": [
            "1\n",
            "55\n"
          ]
        }
      ],
      "source": [
        "def fib(n):\n",
        "    if n < 2:\n",
        "        return 1\n",
        "    else:\n",
        "        return fib(n-1) + fib(n-2)\n",
        "    \n",
        "print(fib(0))\n",
        "print(fib(9))"
      ]
    },
    {
      "cell_type": "markdown",
      "metadata": {
        "id": "ytXC8n_4Ip0W"
      },
      "source": [
        "# Вітаю! Ви велика(ий) молодець, що впоралась(вся). Похваліть себе та побалуйте чимось приємним. Я Вами пишаюся."
      ]
    }
  ],
  "metadata": {
    "colab": {
      "provenance": []
    },
    "kernelspec": {
      "display_name": "Python 3",
      "name": "python3"
    },
    "language_info": {
      "codemirror_mode": {
        "name": "ipython",
        "version": 3
      },
      "file_extension": ".py",
      "mimetype": "text/x-python",
      "name": "python",
      "nbconvert_exporter": "python",
      "pygments_lexer": "ipython3",
      "version": "3.9.13"
    }
  },
  "nbformat": 4,
  "nbformat_minor": 0
}
