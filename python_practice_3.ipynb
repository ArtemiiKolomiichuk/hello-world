{
  "cells": [
    {
      "cell_type": "markdown",
      "metadata": {
        "id": "qDEi2Pi-4yUC"
      },
      "source": [
        "# I. Оператори порівняння та логічні оператори. Умови."
      ]
    },
    {
      "cell_type": "markdown",
      "metadata": {
        "id": "3v8D4Dkm43Ua"
      },
      "source": [
        "1. Створіть цілочисленну змінну зі своїм щасливим або улюбленим числом. Напишіть код, який би автоматизовував наступну задачу.\n",
        "\n",
        "Якщо число парне, помножте його на 2 та виведіть результат на екран.\n",
        "\n",
        "Але якщо число непарне, помножте його на 3 та додайте 1 і виведіть на екран."
      ]
    },
    {
      "cell_type": "code",
      "execution_count": 9,
      "metadata": {
        "id": "dlVjc-Nu4bmb"
      },
      "outputs": [
        {
          "name": "stdout",
          "output_type": "stream",
          "text": [
            "22\n"
          ]
        }
      ],
      "source": [
        "luckynum = 7\n",
        "\n",
        "if(luckynum % 2 == 0):\n",
        "    print(luckynum * 2)\n",
        "else:\n",
        "    print(luckynum * 3 + 1)"
      ]
    },
    {
      "cell_type": "markdown",
      "metadata": {
        "id": "H669P0QK5BI_"
      },
      "source": [
        "2. Створіть змінну, що посилається на список. Якщо список пустий, додайте будь-який елемент у кінець списку. Якщо ж ні, то нічого не робіть."
      ]
    },
    {
      "cell_type": "code",
      "execution_count": 14,
      "metadata": {
        "id": "ecWlfra45f6E"
      },
      "outputs": [
        {
          "name": "stdout",
          "output_type": "stream",
          "text": [
            "[False]\n"
          ]
        }
      ],
      "source": [
        "my_list = []\n",
        "if my_list.__len__() == 0:\n",
        "    my_list.append(False)\n",
        "\n",
        "print(my_list)"
      ]
    },
    {
      "cell_type": "markdown",
      "metadata": {
        "id": "h9Y3cMUd5h85"
      },
      "source": [
        "3. Створіть рядок зі своїм імʼям латинкою. Напишіть код, який би автоматизовував наступну задачу.\n",
        "\n",
        "Якщо в імені є літера \"а\"\n",
        " або \"i\", Виведіть на екран повідомлення \"A or I is in the name\".\n",
        "\n",
        "\n",
        "\n",
        "Якщо в імені є літери \"o\" та \"n\", Виведіть на екран повідомлення \"O and N is in the name\".\n",
        "\n",
        "Також якщо в імені немає літери \"о\", але є \"n\", Виведіть на екран повідомлення \"Only N is in the name\".\n",
        "\n",
        "В решті випадків виведіть на екран повідомлення \"There is no N in the name, but there might be O\".\n",
        "\n",
        "Зверніть увагу, що, наприклад, для імені \"Antonina\" буде виведено два повідомлення."
      ]
    },
    {
      "cell_type": "code",
      "execution_count": 1,
      "metadata": {
        "id": "bUH4LUx35u52"
      },
      "outputs": [
        {
          "name": "stdout",
          "output_type": "stream",
          "text": [
            "A or I is in the name\n",
            "There is no N in the name, but there might be O\n"
          ]
        }
      ],
      "source": [
        "name = \"Artemii\"\n",
        "\n",
        "name = name.lower()\n",
        "if 'a' in name or 'i' in name:\n",
        "    print(\"A or I is in the name\")\n",
        "if 'o' in name and 'n' in name:\n",
        "    print(\"O and N is in the name\")\n",
        "elif 'n' in name:\n",
        "    print(\"Only N is in the name\") \n",
        "else:\n",
        "    print(\"There is no N in the name, but there might be O\")"
      ]
    },
    {
      "cell_type": "markdown",
      "metadata": {
        "id": "wPCXJv4354cU"
      },
      "source": [
        "# II. Comprehensions."
      ]
    },
    {
      "cell_type": "markdown",
      "metadata": {
        "id": "jULLW5jN55Pw"
      },
      "source": [
        "4. Створіть список, використовуючи if (не if-else), range та comprehension."
      ]
    },
    {
      "cell_type": "code",
      "execution_count": 15,
      "metadata": {
        "id": "mlZalnVC6W3F"
      },
      "outputs": [
        {
          "name": "stdout",
          "output_type": "stream",
          "text": [
            "[0, 2, 4, 6, 8]\n"
          ]
        }
      ],
      "source": [
        "compList = [i for i in range(10) if i % 2 == 0]\n",
        "print(compList)"
      ]
    },
    {
      "cell_type": "markdown",
      "metadata": {
        "id": "LqhEQ4JW6XcC"
      },
      "source": [
        "5. Створіть словник, використовуючи dict comprehension, що містить if else. Коли слід використовувати comprehensions, а коли їх слід уникати?"
      ]
    },
    {
      "cell_type": "code",
      "execution_count": 19,
      "metadata": {
        "id": "1yVaFbOs6hta"
      },
      "outputs": [
        {
          "name": "stdout",
          "output_type": "stream",
          "text": [
            "{0: True, 1: False, 4: True, 9: False, 16: True, 25: False, 36: True, 49: False, 64: True, 81: False}\n"
          ]
        }
      ],
      "source": [
        "compDict = {i**2: True if i % 2 == 0 else False for i in range(10)}\n",
        "print(compDict)"
      ]
    },
    {
      "cell_type": "markdown",
      "metadata": {
        "id": "wbkzNhKq6hzz"
      },
      "source": [
        "Comprehensions варто використовувати для простих, коротких, \"очевидних\" операцій, об'єктивно доречних застосувань небагато: просте фільтрування та/або перетворення. Їх слід уникати якщо є велика кількість та/або складні умови; якщо паралельно потрібно виконати якусь дію відповідно до умови або ввести додаткові змінні, сomprehension \"не вистачить\"."
      ]
    },
    {
      "cell_type": "markdown",
      "metadata": {
        "id": "ZlqB8G3G6lHP"
      },
      "source": [
        "6. Створіть список з рядками та запишіть його у змінну. Створіть ще один список на основі попереднього, де кожен рядок буде містити тільки три перших заглавних символи. Наприклад: ['hello', 'i', 'dont', 'care'] -> ['HEL', 'I', 'DON', 'CAR']. Використання comprehensions обовʼязкове."
      ]
    },
    {
      "cell_type": "code",
      "execution_count": 21,
      "metadata": {
        "id": "nw6rz0bR60VC"
      },
      "outputs": [
        {
          "name": "stdout",
          "output_type": "stream",
          "text": [
            "['СТВ', 'СПИ', 'З', 'РЯД', 'ТА', 'ЗАП', 'ЙОГ', 'У', 'ЗМІ', 'СТВ', 'ЩЕ', 'ОДИ', 'СПИ', 'НА', 'ОСН', 'ПОП', 'ДЕ', 'КОЖ', 'РЯД', 'БУД', 'МІС', 'ТІЛ', 'ТРИ', 'ПЕР', 'ЗАГ', 'СИМ']\n"
          ]
        }
      ],
      "source": [
        "strings = \"Створіть список з рядками та запишіть його у змінну. Створіть ще один список на основі попереднього, де кожен рядок буде містити тільки три перших заглавних символи.\".split()\n",
        "strs = [i[:3].upper() for i in strings]\n",
        "print(strs)"
      ]
    },
    {
      "cell_type": "markdown",
      "metadata": {
        "id": "Tj573IAH64Fz"
      },
      "source": [
        "# III. Цикли."
      ]
    },
    {
      "cell_type": "markdown",
      "metadata": {
        "id": "tN_33xdE65H5"
      },
      "source": [
        "7. Продемонструйте роботу циклу while. Не можна використовувати True для запуску циклу, щоб уникнути безкінечного циклу!"
      ]
    },
    {
      "cell_type": "code",
      "execution_count": 39,
      "metadata": {},
      "outputs": [
        {
          "name": "stdout",
          "output_type": "stream",
          "text": [
            "*\n",
            "*\n",
            "*\n",
            "*\n",
            "*\n",
            "**\n",
            "**\n",
            "***\n",
            "****\n",
            "*******\n",
            "*********\n",
            "****************\n"
          ]
        }
      ],
      "source": [
        "import random\n",
        "\n",
        "j = 0.1\n",
        "while j < 10:\n",
        "    i = random.random() + 1\n",
        "    j *= i\n",
        "    print((int(j) + 1)*\"*\")\n"
      ]
    },
    {
      "cell_type": "markdown",
      "metadata": {
        "id": "x2CmfZO-7pW0"
      },
      "source": [
        "8. Напишіть програму, яка виведе на екран непарні числа в діапазоні від 0 до 20 включно."
      ]
    },
    {
      "cell_type": "code",
      "execution_count": 40,
      "metadata": {
        "id": "aCSRYA6s7tkF"
      },
      "outputs": [
        {
          "name": "stdout",
          "output_type": "stream",
          "text": [
            "[1, 3, 5, 7, 9, 11, 13, 15, 17, 19]\n"
          ]
        }
      ],
      "source": [
        "print([i for i in range(0, 21) if i % 2 == 1])"
      ]
    },
    {
      "cell_type": "markdown",
      "metadata": {
        "id": "MDWNocZD7t_B"
      },
      "source": [
        "9. Створіть список з елементами булевого типу або None. Використовуючи цикли, отримайте в результаті список з кортежами, де перший елемент кортежу - індекс(ціле число), а другий елемент - відповідне значення з першого списку.\n",
        "\n",
        "Наприклад, [True, True, None, False] -> [(0, True), (1, True), (2, None), (3, False)]"
      ]
    },
    {
      "cell_type": "code",
      "execution_count": 41,
      "metadata": {
        "id": "0EUyjMdp7yfh"
      },
      "outputs": [
        {
          "name": "stdout",
          "output_type": "stream",
          "text": [
            "[(0, True), (1, True), (2, None), (3, True), (4, False), (5, None), (6, False), (7, False), (8, True), (9, None)]\n"
          ]
        }
      ],
      "source": [
        "boolList = [True, True, None, True, False, None, False, False, True, None]\n",
        "tupleList = []\n",
        "\n",
        "j = 0\n",
        "for i in boolList:\n",
        "    tupleList.append((j, i))\n",
        "    j += 1\n",
        "print(tupleList)"
      ]
    },
    {
      "cell_type": "markdown",
      "metadata": {
        "id": "-6XUqlcG7zKs"
      },
      "source": [
        "10. Створіть словник, де ключі - назви книжок, а значення - їхня кількість у наявності в Вашій міні-бібліотеці. Бібліотека має містити щонайменше 6 книжок (6 пар значень у словнику) і щонайбільше 10 (пар значень). Використовуючи цикли, оновіть словник (не створюйте новий) так, щоби кількість книг у наявності збільшилося на 5 кожної книги. Наприклад,\n",
        "{'It': 3, 'Fault stars': 10, 'Bible': 17, 'Psychological romance': 4, 'Harry Potter': 13} -> {'It': 8, 'Fault stars': 15, 'Bible': 22, 'Psychological romance': 9, 'Harry Potter': 18}"
      ]
    },
    {
      "cell_type": "code",
      "execution_count": 43,
      "metadata": {
        "id": "Ceoj9wwb791q"
      },
      "outputs": [
        {
          "name": "stdout",
          "output_type": "stream",
          "text": [
            "{'HGTTG': 28, '1984': 17, 'Castle': 10, 'The Double': 12, 'Princess and the frog': 8, 'Cinderella': 6}\n"
          ]
        }
      ],
      "source": [
        "lib = {\"HGTTG\": 23, \"1984\": 12, \"Castle\": 5, \"The Double\": 7, \"Princess and the frog\": 3, \"Cinderella\": 1}\n",
        "\n",
        "for book in lib:\n",
        "    lib[book] += 5\n",
        "\n",
        "print(lib)"
      ]
    },
    {
      "cell_type": "markdown",
      "metadata": {
        "id": "QLzyJM288AC7"
      },
      "source": [
        "11. Визначте цілочислену змінну n, що належить проміжку від 4 до 10 включно. Використовуючи цикли, виведіть в консоль наступний патерн.\n",
        "\n",
        "#\n",
        "##\n",
        "###\n",
        "####\n",
        "\n",
        "... #*n\n"
      ]
    },
    {
      "cell_type": "code",
      "execution_count": 2,
      "metadata": {
        "id": "KOpng87s8Duz"
      },
      "outputs": [
        {
          "name": "stdout",
          "output_type": "stream",
          "text": [
            "#\n",
            "##\n",
            "###\n",
            "####\n",
            "#####\n",
            "######\n"
          ]
        }
      ],
      "source": [
        "n = 6\n",
        "\n",
        "for i in range(1, n + 1):\n",
        "    print(i*\"#\")"
      ]
    },
    {
      "cell_type": "markdown",
      "metadata": {
        "id": "_bd-bqAT8EHn"
      },
      "source": [
        "12. Гра \"Нумо вгадай\".\n",
        "Розробіть просту гру, де користувач має вгадати випадкове число від 1 до 100. Для генерації випадкового числа використовуйте функцію random.randint(a, b) (тут a та b включно). Для отримання числа з консолі використовуйте функцію input(), результат якої обовʼязково явно приведіть до типу int.\n",
        "\n",
        "Підказка: використовуйте цикл while та умови if-else, щоб повідомити користувачу піказки (напр. \"Більше\", \"Менше\") поки користувач не вгадає. По завершенню виведіть кількість спроб, які знадобилися для вгадування."
      ]
    },
    {
      "cell_type": "code",
      "execution_count": 54,
      "metadata": {
        "id": "IK9nnxFK8Hkl"
      },
      "outputs": [],
      "source": [
        "NUMBER = random.randint(1, 100)\n",
        "guess = -1\n",
        "guesses = 1\n",
        "print(\"Вгадайте число від 1 до 100\")\n",
        "while guess != NUMBER:\n",
        "    guess = int(input())\n",
        "    if guess > NUMBER:\n",
        "        print(\"Менше\")\n",
        "        guesses += 1\n",
        "    elif guess < NUMBER:\n",
        "        print(\"Більше\")\n",
        "        guesses += 1\n",
        "    else:\n",
        "        print(f\"Кількість спроб: {guesses}\")"
      ]
    },
    {
      "cell_type": "markdown",
      "metadata": {
        "id": "PXoXWb7Z8IGi"
      },
      "source": [
        "# Вітаю! Ви велика(ий) молодець, що впоралась(вся). Похваліть себе та побалуйте чимось приємним. Я Вами пишаюся."
      ]
    }
  ],
  "metadata": {
    "colab": {
      "provenance": []
    },
    "kernelspec": {
      "display_name": "Python 3",
      "name": "python3"
    },
    "language_info": {
      "codemirror_mode": {
        "name": "ipython",
        "version": 3
      },
      "file_extension": ".py",
      "mimetype": "text/x-python",
      "name": "python",
      "nbconvert_exporter": "python",
      "pygments_lexer": "ipython3",
      "version": "3.9.13"
    }
  },
  "nbformat": 4,
  "nbformat_minor": 0
}
